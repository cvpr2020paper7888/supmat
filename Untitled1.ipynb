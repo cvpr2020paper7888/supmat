{
 "cells": [
  {
   "cell_type": "code",
   "execution_count": null,
   "metadata": {},
   "outputs": [],
   "source": [
    "ffmpeg -i /home/sasha/scaling/mount/shared/assets/source_final.mp4 /home/sasha/scaling/mount/shared/vid/input%05d.png"
   ]
  },
  {
   "cell_type": "code",
   "execution_count": null,
   "metadata": {},
   "outputs": [],
   "source": [
    "ffmpeg -y -framerate 30 -pattern_type glob -i '/home/sasha/scaling/mount/shared/assets/out_frames1/*.png' -c:v libx264 -pix_fmt yuv420p video.mp4"
   ]
  },
  {
   "cell_type": "code",
   "execution_count": null,
   "metadata": {},
   "outputs": [],
   "source": [
    "for CONFIG_NAME in rgb2depth_zbuffer rgb2principal_curvature rgb2edge_occlusion rgb2keypoints3d rgb2reshading; do\n",
    "\n",
    "export CONFIG_NAME='rgb2principal_curvature_ft'\n",
    "export CONFIG_NAME='rgb2principal_curvature'\n",
    "#export CONFIG_NAME='rgb2normal_ft'\n",
    "export CONFIG_NAME='rgb2depth_zbuffer'\n",
    "export CONFIG_NAME='rgb2edge_occlusion'\n",
    "#export CONFIG_NAME='rgb2keypoints2d'\n",
    "export CONFIG_NAME='rgb2keypoints3d'\n",
    "export CONFIG_NAME='rgb2reshading'\n",
    "export CONFIG_NAME='rgb2normal'\n",
    "\n",
    "export CONFIG_NAME='rgb2depth_zbuffer'\n",
    "export CONFIG_NAME='rgb2normal_cycle_consist'\n",
    "export CONFIG_NAME='rgb2normal_pix2pix'\n",
    "export CONFIG_NAME='rgb2normal_multitask'\n",
    "export CONFIG_NAME='rgb2normal_imagenet'\n",
    "export CONFIG_NAME='rgb2normal_geonet'\n",
    "export CONFIG_NAME='rgb2normal_baseline'\n",
    "export CONFIG_NAME='rgb2normal_consist'\n",
    "export CONFIG_NAME='rgb2normal_multitask'\n",
    "\n",
    "#export CONFIG_NAME='rgb2depth_zbuffer_consist'\n",
    "#export CONFIG_NAME='rgb2principal_curvature_consist'\n",
    "#export CONFIG_NAME='rgb2edge_occlusion_consist'\n",
    "#export CONFIG_NAME='rgb2keypoints3d_consist'\n",
    "#export CONFIG_NAME='rgb2reshading_consist'\n",
    "#export CONFIG_NAME='rgb2reshading'\n",
    "\n",
    "export OUTPUT_DIR=\"/home/sasha/scaling/mount/shared/assets/general_consistency/${CONFIG_NAME}\"\n",
    "\n",
    "mkdir -p \"${OUTPUT_DIR}\"\n",
    "sudo /home/shared/anaconda3/bin/python make_videos.py --config_to_run=${CONFIG_NAME} --output_dir=${OUTPUT_DIR}\n",
    "\n",
    "\n",
    "export CONFIG_NAME='rgb2reshading'\n",
    "\n",
    "\n",
    "export OUTPUT_DIR=\"/home/sasha/scaling/mount/shared/assets/general_consistency/${CONFIG_NAME}\"\n",
    "\n",
    "ffmpeg -y -framerate 30 -pattern_type glob \\\n",
    "    -i \"${OUTPUT_DIR}/*.png\" \\\n",
    "    -c:v libx264 -pix_fmt yuv420p \"general_consistency_${CONFIG_NAME}.mp4\";\n",
    "\n",
    "sudo gsutil mv \"general_consistency_${CONFIG_NAME}.mp4\" gs://taskonomy-shared/assets/;\n",
    "\n",
    "\n",
    "for CONFIG_NAME in rgb2normal_consist rgb2reshading_consist rgb2depth_zbuffer_consist rgb2principal_curvature_consist rgb2edge_occlusion_consist rgb2keypoints3d_consist; do\n",
    "\n",
    "sudo gsutil mv \"gs://taskonomy-shared/assets/other_tasks_${CONFIG_NAME}.mp4\" gs://taskonomy-shared/assets/general_consistency_${CONFIG_NAME}.mp4;\n",
    "\n",
    "\n",
    "done\n"
   ]
  },
  {
   "cell_type": "code",
   "execution_count": null,
   "metadata": {},
   "outputs": [],
   "source": []
  },
  {
   "cell_type": "markdown",
   "metadata": {},
   "source": [
    "# Method comparison"
   ]
  },
  {
   "cell_type": "code",
   "execution_count": null,
   "metadata": {},
   "outputs": [],
   "source": [
    "\n",
    "export CONFIG_NAME='rgb2normal_cycle_consist'\n",
    "#export CONFIG_NAME='rgb2normal_pix2pix'\n",
    "#export CONFIG_NAME='rgb2normal_imagenet'\n",
    "#export CONFIG_NAME='rgb2normal_geonet'\n",
    "#export CONFIG_NAME='rgb2normal_baseline'\n",
    "#export CONFIG_NAME='rgb2normal_consist'\n",
    "#export CONFIG_NAME='rgb2normal_multitask'\n",
    "#export CONFIG_NAME='rgb2depth_zbuffer_CH_lbp_all_normaltarget_nonormalization_1'\n",
    "\n",
    "export CONFIG_NAME='consistency_rgb2depth_zbuffer2normal2'\n",
    "\n",
    "export OUTPUT_DIR=\"/home/sasha/scaling/mount/shared/assets/frames/${CONFIG_NAME}\"\n",
    "\n",
    "mkdir -p \"${OUTPUT_DIR}\"\n",
    "sudo /home/shared/anaconda3/bin/python make_videos.py --config_to_run=${CONFIG_NAME} --output_dir=${OUTPUT_DIR}\n",
    "\n",
    "\n",
    "\n",
    "\n",
    "for CONFIG_NAME in rgb2normal_cycle_consist ; do\n",
    "\n",
    "export OUTPUT_DIR=\"/home/sasha/scaling/mount/shared/assets/method_comparison/${CONFIG_NAME}\";\n",
    "\n",
    "ffmpeg -y -framerate 30 -pattern_type glob \\\n",
    "    -i \"${OUTPUT_DIR}/*.png\" \\\n",
    "    -c:v libx264 -pix_fmt yuv420p \"method_comparison_${CONFIG_NAME}.mp4\";\n",
    "\n",
    "sudo gsutil mv \"method_comparison_${CONFIG_NAME}.mp4\" gs://taskonomy-shared/assets/;\n",
    "\n",
    "done\n",
    "\n",
    "\n"
   ]
  },
  {
   "cell_type": "markdown",
   "metadata": {},
   "source": [
    "# RGB -> Other tasks -> Normals"
   ]
  },
  {
   "cell_type": "code",
   "execution_count": null,
   "metadata": {},
   "outputs": [],
   "source": [
    "consistency_rgb2principal_curvature2normal consistency_rgb2depth_zbuffer2normal consistency_rgb2reshading2normal consistency_rgb2sobel_edges2normal consistency_rgb2keypoints3d2normal consistency_rgb2edge_occlusion2normal consistency_rgb2keypoints2d2normal\n",
    "baseline_rgb2normal2principal_curvature baseline_rgb2normal2depth_zbuffer baseline_rgb2normal2reshading baseline_rgb2normal2keypoints3d baseline_rgb2normal2sobel_edges\n",
    "export CONFIG_NAME='pix2pix_rgb2normal'\n",
    "export CONFIG_NAME='baseline_rgb2normal2depth_zbuffer'\n",
    "\n",
    "for CONFIG_NAME in consistency_rgb2edge_occlusion2normal consistency_rgb2keypoints2d2normal; do\n",
    "\n",
    "export OUTPUT_DIR=\"/home/sasha/scaling/mount/shared/assets/frames/${CONFIG_NAME}\";\n",
    "mkdir -p \"${OUTPUT_DIR}\";\n",
    "sudo /home/shared/anaconda3/bin/python make_videos.py --config_to_run=${CONFIG_NAME} --output_dir=${OUTPUT_DIR};\n",
    "\n",
    "done\n",
    "\n",
    "export CONFIG_NAME='rgb2reshading_ft'\n",
    "\n",
    "export OUTPUT_DIR=\"/home/sasha/scaling/mount/shared/assets/frames/${CONFIG_NAME}\";\n",
    "\n",
    "\n",
    "for CONFIG_NAME in consistency_rgb2edge_occlusion2normal consistency_rgb2keypoints2d2normal; do\n",
    "\n",
    "export OUTPUT_DIR=\"/home/sasha/scaling/mount/shared/assets/frames/${CONFIG_NAME}\";\n",
    "\n",
    "ffmpeg -y -framerate 30 -pattern_type glob \\\n",
    "    -i \"${OUTPUT_DIR}/*.png\" \\\n",
    "    -c:v libx264 -pix_fmt yuv420p \"${CONFIG_NAME}.mp4\";\n",
    "\n",
    "sudo gsutil mv \"${CONFIG_NAME}.mp4\" gs://taskonomy-shared/assets/;\n",
    "\n",
    "done\n",
    "\n"
   ]
  },
  {
   "cell_type": "markdown",
   "metadata": {},
   "source": [
    "# RGB -> Normals -> Other tasks"
   ]
  },
  {
   "cell_type": "code",
   "execution_count": null,
   "metadata": {},
   "outputs": [],
   "source": [
    "export CONFIG_NAME='rgb2principal_curvature_ft'\n",
    "export CONFIG_NAME='rgb2principal_curvature'\n",
    "export CONFIG_NAME='rgb2depth_zbuffer'\n",
    "export CONFIG_NAME='rgb2edge_occlusion'\n",
    "export CONFIG_NAME='rgb2keypoints3d'\n",
    "export CONFIG_NAME='rgb2reshading'\n",
    "export CONFIG_NAME='rgb2depth_zbuffer_CH_lbp_all_depthtarget_nonormalization_1'\n",
    "#export CONFIG_NAME='rgb2normal_CH_lbp_all_normaltarget_nonormalization_1'\n",
    "export CONFIG_NAME='rgb2principal_curvature_ft'\n",
    "\n",
    "consistency_rgb2normal2principal_curvature consistency_rgb2normal2depth_zbuffer consistency_rgb2normal2reshading consistency_rgb2normal2sobel_edges consistency_rgb2normal2keypoints3d\n",
    "baseline_rgb2normal2principal_curvature baseline_rgb2normal2depth_zbuffer baseline_rgb2normal2reshading baseline_rgb2normal2keypoints3d baseline_rgb2normal2sobel_edges\n",
    "export CONFIG_NAME='pix2pix_rgb2normal'\n",
    "export CONFIG_NAME='baseline_rgb2normal2depth_zbuffer'\n",
    "\n",
    "for CONFIG_NAME in consistency_rgb2normal2sobel_edges consistency_rgb2normal2keypoints3d; do\n",
    "\n",
    "export CONFIG_NAME='consistency_rgb2normal2keypoints3d'\n",
    "\n",
    "export OUTPUT_DIR=\"/home/sasha/scaling/mount/shared/assets/frames/${CONFIG_NAME}\";\n",
    "mkdir -p \"${OUTPUT_DIR}\";\n",
    "sudo /home/shared/anaconda3/bin/python make_videos.py --config_to_run=${CONFIG_NAME} --output_dir=${OUTPUT_DIR};\n",
    "\n",
    "done\n",
    "\n",
    "export CONFIG_NAME='rgb2reshading_ft'\n",
    "\n",
    "export OUTPUT_DIR=\"/home/sasha/scaling/mount/shared/assets/frames/${CONFIG_NAME}\";\n",
    "\n",
    "\n",
    "for CONFIG_NAME in consistency_rgb2normal2principal_curvature consistency_rgb2normal2depth_zbuffer consistency_rgb2normal2reshading consistency_rgb2normal2sobel_edges consistency_rgb2normal2keypoints3d; do\n",
    "\n",
    "export OUTPUT_DIR=\"/home/sasha/scaling/mount/shared/assets/frames/${CONFIG_NAME}\";\n",
    "\n",
    "ffmpeg -y -framerate 30 -pattern_type glob \\\n",
    "    -i \"${OUTPUT_DIR}/*.png\" \\\n",
    "    -c:v libx264 -pix_fmt yuv420p \"${CONFIG_NAME}.mp4\";\n",
    "\n",
    "sudo gsutil mv \"${CONFIG_NAME}.mp4\" gs://taskonomy-shared/assets/;\n",
    "\n",
    "done\n"
   ]
  },
  {
   "cell_type": "code",
   "execution_count": null,
   "metadata": {},
   "outputs": [],
   "source": [
    "{SHARED_DIR}/assets/normal_consistency/rgb2depth_zbuffer"
   ]
  },
  {
   "cell_type": "code",
   "execution_count": null,
   "metadata": {},
   "outputs": [],
   "source": [
    "sudo gsutil cp rgb2principal_curvature_normals.mp4 gs://taskonomy-shared/assets/"
   ]
  },
  {
   "cell_type": "code",
   "execution_count": null,
   "metadata": {},
   "outputs": [],
   "source": [
    "ffmpeg -i source_final.mp4 unpacked/input%05d.png"
   ]
  }
 ],
 "metadata": {
  "kernelspec": {
   "display_name": "Python 3",
   "language": "python",
   "name": "python3"
  },
  "language_info": {
   "codemirror_mode": {
    "name": "ipython",
    "version": 3
   },
   "file_extension": ".py",
   "mimetype": "text/x-python",
   "name": "python",
   "nbconvert_exporter": "python",
   "pygments_lexer": "ipython3",
   "version": "3.6.9"
  }
 },
 "nbformat": 4,
 "nbformat_minor": 2
}
